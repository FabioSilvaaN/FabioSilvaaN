{
  "nbformat": 4,
  "nbformat_minor": 0,
  "metadata": {
    "colab": {
      "name": "Untitled0.ipynb",
      "provenance": [],
      "authorship_tag": "ABX9TyM5cpW5ZDtKbgDaYQan37ra",
      "include_colab_link": true
    },
    "kernelspec": {
      "name": "python3",
      "display_name": "Python 3"
    },
    "language_info": {
      "name": "python"
    }
  },
  "cells": [
    {
      "cell_type": "markdown",
      "metadata": {
        "id": "view-in-github",
        "colab_type": "text"
      },
      "source": [
        "<a href=\"https://colab.research.google.com/github/FabioSilvaaN/FabioSilvaaN/blob/main/Untitled0.ipynb\" target=\"_parent\"><img src=\"https://colab.research.google.com/assets/colab-badge.svg\" alt=\"Open In Colab\"/></a>"
      ]
    },
    {
      "cell_type": "code",
      "execution_count": null,
      "metadata": {
        "colab": {
          "base_uri": "https://localhost:8080/"
        },
        "id": "6W_0oY2YXwCe",
        "outputId": "c6013399-abb7-4edd-d706-cd2b229513d2"
      },
      "outputs": [
        {
          "output_type": "stream",
          "name": "stdout",
          "text": [
            "Fábio\n",
            "Tarcisio\n",
            "Ayla\n"
          ]
        }
      ],
      "source": [
        "# ETE PORTO DIGITAL 2022.1\n",
        "# PROFESSOR CLOVES ROCHA\n",
        "# ESTUDANTE: FÁBIO NASCIMENTO\n",
        "\n",
        "nomes = ['Fábio', 'Tarcisio', 'Ayla']\n",
        "for n in nomes:\n",
        "     print(n)"
      ]
    }
  ]
}