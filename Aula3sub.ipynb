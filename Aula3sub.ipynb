{
  "nbformat": 4,
  "nbformat_minor": 0,
  "metadata": {
    "colab": {
      "name": "Aula3sub.ipynb",
      "provenance": [],
      "authorship_tag": "ABX9TyPU5qYr2eNxWvzWvZGzcsAe",
      "include_colab_link": true
    },
    "kernelspec": {
      "name": "python3",
      "display_name": "Python 3"
    },
    "language_info": {
      "name": "python"
    }
  },
  "cells": [
    {
      "cell_type": "markdown",
      "metadata": {
        "id": "view-in-github",
        "colab_type": "text"
      },
      "source": [
        "<a href=\"https://colab.research.google.com/github/FabioSilvaaN/FabioSilvaaN/blob/main/Aula3sub.ipynb\" target=\"_parent\"><img src=\"https://colab.research.google.com/assets/colab-badge.svg\" alt=\"Open In Colab\"/></a>"
      ]
    },
    {
      "cell_type": "code",
      "execution_count": null,
      "metadata": {
        "colab": {
          "base_uri": "https://localhost:8080/"
        },
        "id": "R_f6NEm6BNCY",
        "outputId": "672c4833-6d7d-414d-8fa1-ced2febe3723"
      },
      "outputs": [
        {
          "output_type": "stream",
          "name": "stdout",
          "text": [
            "Olá, ETE PORTO DIGITAL!\n"
          ]
        }
      ],
      "source": [
        "# ETE PORTO DIGITAL\n",
        "# DISCIPLINA: LPCI\n",
        "# PROFESSOR CLOVES\n",
        "# ESTUDANTE: FÁBIO\n",
        "\n",
        "print ('Olá, ETE PORTO DIGITAL!')"
      ]
    }
  ]
}